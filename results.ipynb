{
 "cells": [
  {
   "cell_type": "code",
   "execution_count": 1,
   "id": "a218a96b",
   "metadata": {},
   "outputs": [],
   "source": [
    "import numpy as np\n",
    "import pandas as pd\n",
    "import neuroqwerty as nq\n",
    "import matplotlib.pyplot as plt\n",
    "\n",
    "from bayes_opt import BayesianOptimization\n",
    "\n",
    "from sklearn.model_selection import train_test_split, cross_val_score\n",
    "from sklearn.feature_selection import SelectKBest, f_classif\n",
    "\n",
    "from sklearn.ensemble import AdaBoostClassifier\n",
    "from sklearn.metrics import accuracy_score, roc_curve, auc, roc_auc_score, confusion_matrix, ConfusionMatrixDisplay,  confusion_matrix, classification_report\n",
    "from sklearn.ensemble import BaggingClassifier"
   ]
  },
  {
   "cell_type": "code",
   "execution_count": 2,
   "id": "0037589b",
   "metadata": {},
   "outputs": [],
   "source": [
    "myClass = nq.neuroqwerty()\n",
    "cs1Pd = pd.read_csv('MIT-CSXPD_v2/MIT-CS1PD/GT_DataPD_MIT-CS1PD.csv')\n",
    "cs2Pd = pd.read_csv('MIT-CSXPD_v2/MIT-CS2PD/GT_DataPD_MIT-CS2PD.csv')"
   ]
  },
  {
   "cell_type": "code",
   "execution_count": 3,
   "id": "21724fe6",
   "metadata": {},
   "outputs": [],
   "source": [
    "cs1Pd = myClass.multiplecsv_to_df_two_files(cs1Pd, 'MIT-CSXPD_v2/MIT-CS1PD/data_MIT-CS1PD/', 'file_1', 'file_2') \n",
    "cs1Pd = cs1Pd.drop(columns=['file_2'])\n",
    "\n",
    "cs2Pd = myClass.multiplecsv_to_df_left_right(cs2Pd, 'MIT-CSXPD_v2/MIT-CS2PD/data_MIT-CS2PD/')\n",
    "\n",
    "combine = [cs1Pd, cs2Pd]\n",
    "total_df =  pd.concat(combine, ignore_index=True)"
   ]
  },
  {
   "cell_type": "code",
   "execution_count": 4,
   "id": "0bfa63e1",
   "metadata": {},
   "outputs": [],
   "source": [
    "X = total_df.drop(columns=['pID', 'gt', 'updrs108', 'nqScore', 'file_1', 'afTap' , 'sTap'])\n",
    "y = total_df['gt']"
   ]
  },
  {
   "cell_type": "markdown",
   "id": "691bb928",
   "metadata": {},
   "source": [
    "# AdaBoost with feature selection, hyperparameter tuning and bagging"
   ]
  },
  {
   "cell_type": "markdown",
   "id": "8f0d9926",
   "metadata": {},
   "source": [
    "A classifier using feature selection, hyperparameter tuning and bagging is created to classify individuals into two categories, those with Parkinsons Disease(PD) and those who don't have it.  "
   ]
  },
  {
   "cell_type": "code",
   "execution_count": 5,
   "id": "09815d66",
   "metadata": {},
   "outputs": [],
   "source": [
    "rand = 42\n",
    "feature_num = 20"
   ]
  },
  {
   "cell_type": "code",
   "execution_count": 6,
   "id": "c180a29a",
   "metadata": {},
   "outputs": [],
   "source": [
    "X_train, X_test, y_train, y_test = train_test_split(X, y, test_size=0.25, random_state=rand)\n",
    "# Select the 20 best features for the training and testing set\n",
    "selector = SelectKBest(f_classif, k= feature_num)\n",
    "X_train = selector.fit_transform(X_train, y_train)\n",
    "X_test = selector.transform(X_test)"
   ]
  },
  {
   "cell_type": "markdown",
   "id": "98b6839d",
   "metadata": {},
   "source": [
    "The best 20 features are selected using SelectKBest on the training set. Then the same 20 features were chosen for the testing set."
   ]
  },
  {
   "cell_type": "markdown",
   "id": "7a4e614d",
   "metadata": {},
   "source": [
    "## Bayesian Hyperparameter Tuning"
   ]
  },
  {
   "cell_type": "markdown",
   "id": "31b76d0e",
   "metadata": {},
   "source": [
    "Bayesian hyperparameter tuning is an optimization technique that finds the best parameters efficiently. It's efficient because it has a good understanding of the parameter space. Bayesian optimization searches for the best parameters by using previous explorations to see what areas of the parameter space are worth exploring. It will choose the parameters with the highest target value."
   ]
  },
  {
   "cell_type": "code",
   "execution_count": 7,
   "id": "f844078c",
   "metadata": {},
   "outputs": [],
   "source": [
    "bayesian_opt = {\n",
    "     \"learning_rate\"    : (.01, 2),\n",
    "     \"n_estimators\"     : (1, 300)\n",
    "     }"
   ]
  },
  {
   "cell_type": "markdown",
   "id": "d3bc38e9",
   "metadata": {},
   "source": [
    "The two parameters that will be tuned for the AdaBoost classifier are the learning_rate and n_estimators. The bayesian optimizer will look at values within the intervals stated above."
   ]
  },
  {
   "cell_type": "code",
   "execution_count": 8,
   "id": "01372922",
   "metadata": {},
   "outputs": [],
   "source": [
    "def adaboost_hyper_param(learning_rate, n_estimators):\n",
    "    n_estimators = int(n_estimators)    \n",
    "    clf = AdaBoostClassifier(learning_rate= learning_rate, n_estimators= n_estimators)\n",
    "    \n",
    "    return np.mean(cross_val_score(clf, X_train, y_train, cv=4, scoring='accuracy')) "
   ]
  },
  {
   "cell_type": "markdown",
   "id": "f37e11c6",
   "metadata": {},
   "source": [
    "We need to specify the function that will be optimized. The function takes in the learning_rate and n_estimators parameters. The function includes the AdaBoost classifier along with the metric used to evaluate performance also known as the target value. In this case, the metric is the average of the accuracy values using 4-fold cross-validation."
   ]
  },
  {
   "cell_type": "code",
   "execution_count": 9,
   "id": "526dee1e",
   "metadata": {},
   "outputs": [],
   "source": [
    "optimizer = BayesianOptimization(\n",
    "    f=adaboost_hyper_param,\n",
    "    pbounds= bayesian_opt\n",
    ")"
   ]
  },
  {
   "cell_type": "code",
   "execution_count": 10,
   "id": "f937eedf",
   "metadata": {
    "scrolled": true
   },
   "outputs": [
    {
     "name": "stdout",
     "output_type": "stream",
     "text": [
      "|   iter    |  target   | learni... | n_esti... |\n",
      "-------------------------------------------------\n",
      "| \u001b[39m1        \u001b[39m | \u001b[39m0.7937   \u001b[39m | \u001b[39m1.43     \u001b[39m | \u001b[39m118.9    \u001b[39m |\n",
      "| \u001b[39m2        \u001b[39m | \u001b[39m0.7615   \u001b[39m | \u001b[39m0.05457  \u001b[39m | \u001b[39m205.4    \u001b[39m |\n",
      "| \u001b[39m3        \u001b[39m | \u001b[39m0.7458   \u001b[39m | \u001b[39m0.5412   \u001b[39m | \u001b[39m260.4    \u001b[39m |\n",
      "| \u001b[39m4        \u001b[39m | \u001b[39m0.7771   \u001b[39m | \u001b[39m0.3827   \u001b[39m | \u001b[39m169.9    \u001b[39m |\n",
      "| \u001b[39m5        \u001b[39m | \u001b[39m0.776    \u001b[39m | \u001b[39m0.4467   \u001b[39m | \u001b[39m188.7    \u001b[39m |\n",
      "| \u001b[35m6        \u001b[39m | \u001b[35m0.8406   \u001b[39m | \u001b[35m1.39     \u001b[39m | \u001b[35m263.6    \u001b[39m |\n",
      "| \u001b[39m7        \u001b[39m | \u001b[39m0.775    \u001b[39m | \u001b[39m1.943    \u001b[39m | \u001b[39m297.7    \u001b[39m |\n",
      "| \u001b[39m8        \u001b[39m | \u001b[39m0.7615   \u001b[39m | \u001b[39m0.9398   \u001b[39m | \u001b[39m201.2    \u001b[39m |\n",
      "| \u001b[39m9        \u001b[39m | \u001b[39m0.7771   \u001b[39m | \u001b[39m0.8001   \u001b[39m | \u001b[39m33.82    \u001b[39m |\n",
      "| \u001b[39m10       \u001b[39m | \u001b[39m0.6833   \u001b[39m | \u001b[39m0.227    \u001b[39m | \u001b[39m17.9     \u001b[39m |\n",
      "| \u001b[39m11       \u001b[39m | \u001b[39m0.7458   \u001b[39m | \u001b[39m0.5883   \u001b[39m | \u001b[39m10.87    \u001b[39m |\n",
      "| \u001b[39m12       \u001b[39m | \u001b[39m0.7927   \u001b[39m | \u001b[39m1.268    \u001b[39m | \u001b[39m263.5    \u001b[39m |\n",
      "| \u001b[39m13       \u001b[39m | \u001b[39m0.7781   \u001b[39m | \u001b[39m1.467    \u001b[39m | \u001b[39m263.7    \u001b[39m |\n",
      "| \u001b[39m14       \u001b[39m | \u001b[39m0.7302   \u001b[39m | \u001b[39m1.281    \u001b[39m | \u001b[39m118.8    \u001b[39m |\n",
      "| \u001b[39m15       \u001b[39m | \u001b[39m0.825    \u001b[39m | \u001b[39m1.404    \u001b[39m | \u001b[39m254.7    \u001b[39m |\n",
      "| \u001b[39m16       \u001b[39m | \u001b[39m0.7115   \u001b[39m | \u001b[39m1.798    \u001b[39m | \u001b[39m281.9    \u001b[39m |\n",
      "| \u001b[39m17       \u001b[39m | \u001b[39m0.7625   \u001b[39m | \u001b[39m1.366    \u001b[39m | \u001b[39m254.6    \u001b[39m |\n",
      "| \u001b[39m18       \u001b[39m | \u001b[39m0.7604   \u001b[39m | \u001b[39m1.668    \u001b[39m | \u001b[39m254.5    \u001b[39m |\n",
      "| \u001b[39m19       \u001b[39m | \u001b[39m0.6833   \u001b[39m | \u001b[39m1.543    \u001b[39m | \u001b[39m16.41    \u001b[39m |\n",
      "| \u001b[39m20       \u001b[39m | \u001b[39m0.7771   \u001b[39m | \u001b[39m1.459    \u001b[39m | \u001b[39m118.9    \u001b[39m |\n",
      "=================================================\n"
     ]
    }
   ],
   "source": [
    "optimizer.maximize(init_points=10, n_iter=10)"
   ]
  },
  {
   "cell_type": "code",
   "execution_count": 11,
   "id": "a4f19c05",
   "metadata": {},
   "outputs": [
    {
     "name": "stdout",
     "output_type": "stream",
     "text": [
      "{'target': 0.840625, 'params': {'learning_rate': 1.3899762950488865, 'n_estimators': 263.5509653169362}}\n"
     ]
    }
   ],
   "source": [
    "print(optimizer.max)"
   ]
  },
  {
   "cell_type": "code",
   "execution_count": 12,
   "id": "3563995e",
   "metadata": {},
   "outputs": [
    {
     "data": {
      "text/plain": [
       "{'learning_rate': 1.3899762950488865, 'n_estimators': 264}"
      ]
     },
     "execution_count": 12,
     "metadata": {},
     "output_type": "execute_result"
    }
   ],
   "source": [
    "params_bayesian_opt = optimizer.max['params']\n",
    "params_bayesian_opt['n_estimators'] = round(params_bayesian_opt['n_estimators'])\n",
    "params_bayesian_opt"
   ]
  },
  {
   "cell_type": "markdown",
   "id": "e84942fc",
   "metadata": {},
   "source": [
    "The optimizer is then created and searches for the best parameters which are:\n",
    "- learning_rate = 1.2895\n",
    "- n_estimators = 106"
   ]
  },
  {
   "cell_type": "markdown",
   "id": "a52316f0",
   "metadata": {},
   "source": [
    "## Apply parameters to AdaBoost with bagging"
   ]
  },
  {
   "cell_type": "code",
   "execution_count": 13,
   "id": "4b2301ba",
   "metadata": {},
   "outputs": [
    {
     "data": {
      "text/plain": [
       "BaggingClassifier(base_estimator=AdaBoostClassifier(learning_rate=1.3899762950488865,\n",
       "                                                    n_estimators=264),\n",
       "                  n_estimators=150)"
      ]
     },
     "execution_count": 13,
     "metadata": {},
     "output_type": "execute_result"
    }
   ],
   "source": [
    "n_estimators = 150\n",
    "base_classifier= AdaBoostClassifier(**params_bayesian_opt)\n",
    "model_bayesian_opt = BaggingClassifier(base_estimator=base_classifier, n_estimators=n_estimators)\n",
    "model_bayesian_opt.fit(X_train, y_train)"
   ]
  },
  {
   "cell_type": "markdown",
   "id": "48b95694",
   "metadata": {},
   "source": [
    "## Metrics"
   ]
  },
  {
   "cell_type": "markdown",
   "id": "11be39c6",
   "metadata": {},
   "source": [
    "The metrics utilized for evaluation of performance are:\n",
    "- accuracy score \n",
    "- area under curve (AUC)\n",
    "- confusion matrix: true positives, true negatives, false positives, and false negatives\n",
    "- recall"
   ]
  },
  {
   "cell_type": "code",
   "execution_count": 14,
   "id": "1ec55a46",
   "metadata": {},
   "outputs": [],
   "source": [
    "# Make predictions on the test set\n",
    "y_proba = model_bayesian_opt.predict_proba(X_test)[:,1]\n",
    "y_pred = model_bayesian_opt.predict(X_test)\n",
    "# Calculate accuracy\n",
    "acc_val = accuracy_score(y_test, y_pred)\n",
    "\n",
    "#Calculate AUC \n",
    "fpr, tpr, thresholds = roc_curve(y_test, y_proba)\n",
    "auc_val = auc(fpr, tpr)"
   ]
  },
  {
   "cell_type": "code",
   "execution_count": 15,
   "id": "7e903b19",
   "metadata": {},
   "outputs": [
    {
     "name": "stdout",
     "output_type": "stream",
     "text": [
      "acc score:  0.7727272727272727\n",
      "auc score:  0.825\n"
     ]
    }
   ],
   "source": [
    "print(\"acc score: \", acc_val)\n",
    "print(\"auc score: \", auc_val)"
   ]
  },
  {
   "cell_type": "code",
   "execution_count": 16,
   "id": "93b7e2d7",
   "metadata": {},
   "outputs": [
    {
     "data": {
      "image/png": "[encoded data removed]",
      "text/plain": [
       "<Figure size 432x288 with 1 Axes>"
      ]
     },
     "metadata": {
      "needs_background": "light"
     },
     "output_type": "display_data"
    }
   ],
   "source": [
    "# Plot the ROC curve\n",
    "plt.figure()  \n",
    "plt.plot(fpr, tpr, label=f'ROC Curve (AUC={auc(fpr, tpr):.4f})')\n",
    "plt.xlim([0.0, 1.0])\n",
    "plt.ylim([0.0, 1.02])\n",
    "plt.xlabel('False Positive Rate')\n",
    "plt.ylabel('True Positive Rate')\n",
    "plt.title('ROC Curve for Parkinsons Disease Classification')\n",
    "plt.legend()\n",
    "plt.show()"
   ]
  },
  {
   "cell_type": "code",
   "execution_count": 17,
   "id": "06753e76",
   "metadata": {
    "scrolled": true
   },
   "outputs": [
    {
     "data": {
      "image/png": "[encoded data removed]",
      "text/plain": [
       "<Figure size 432x288 with 2 Axes>"
      ]
     },
     "metadata": {
      "needs_background": "light"
     },
     "output_type": "display_data"
    }
   ],
   "source": [
    "confusion_matrix_ = confusion_matrix(y_test, y_pred)\n",
    "cm_display = ConfusionMatrixDisplay(confusion_matrix = confusion_matrix_, display_labels = [0, 1])\n",
    "cm_display.plot()\n",
    "plt.show()"
   ]
  },
  {
   "cell_type": "code",
   "execution_count": 18,
   "id": "27cbdaaa",
   "metadata": {},
   "outputs": [
    {
     "name": "stdout",
     "output_type": "stream",
     "text": [
      "True Positives (TP): 8\n",
      "True Negatives (TN): 9\n",
      "False Positives (FP): 1\n",
      "False Negatives (FN): 4\n"
     ]
    }
   ],
   "source": [
    "# Extract TP, TN, FP, FN from confusion matrix\n",
    "tn, fp, fn, tp = confusion_matrix_.ravel()\n",
    "\n",
    "print(\"True Positives (TP):\", tp)\n",
    "print(\"True Negatives (TN):\", tn)\n",
    "print(\"False Positives (FP):\", fp)\n",
    "print(\"False Negatives (FN):\", fn)"
   ]
  },
  {
   "cell_type": "code",
   "execution_count": 19,
   "id": "7f38222c",
   "metadata": {},
   "outputs": [
    {
     "name": "stdout",
     "output_type": "stream",
     "text": [
      "Recall: 0.6666666666666666\n"
     ]
    }
   ],
   "source": [
    "recall = tp /(tp + fn)\n",
    "print(\"Recall:\", recall)"
   ]
  },
  {
   "cell_type": "markdown",
   "id": "ad95bd93",
   "metadata": {},
   "source": [
    "## Results"
   ]
  },
  {
   "cell_type": "markdown",
   "id": "5ed1196b",
   "metadata": {},
   "source": [
    "The classifier works better than chance based on these metrics: \n",
    "- Accuracy score of .773\n",
    "- AUC score of .825 "
   ]
  },
  {
   "cell_type": "markdown",
   "id": "6529114e",
   "metadata": {},
   "source": [
    "The confusion matrix displays the number of observations that are in a group and it's predicted group. It looks at the true positives, true negatives, false positives and false negatives. The best case scenario is to have maximize the number of true postives and true negatives, while minimizing the amount of false positives and false negatives. "
   ]
  },
  {
   "cell_type": "markdown",
   "id": "7c9f6fb2",
   "metadata": {},
   "source": [
    "In terms of a medical diagnosis, looking at recall is essential. Recall asks the question: of all people with PD, how many were predicted to have PD? The best outcome is to have a recall that is 1, or close to 1, which means that observations of false negatives need to be 0, or close to 0. The best outcome  means that of all people with PD, all of them get predicted correctly resulting in the individual getting help from a clinician. "
   ]
  },
  {
   "cell_type": "markdown",
   "id": "a78d1ac3",
   "metadata": {},
   "source": [
    "The recall for the PD classifier is .667. This means that out of the 12 individuals who actually have PD, 4 of them got classified incorrectly. In terms of recall, the PD classifer is a decent model, but still not a good model. "
   ]
  }
 ],
 "metadata": {
  "kernelspec": {
   "display_name": "Python 3 (ipykernel)",
   "language": "python",
   "name": "python3"
  },
  "language_info": {
   "codemirror_mode": {
    "name": "ipython",
    "version": 3
   },
   "file_extension": ".py",
   "mimetype": "text/x-python",
   "name": "python",
   "nbconvert_exporter": "python",
   "pygments_lexer": "ipython3",
   "version": "3.9.12"
  }
 },
 "nbformat": 4,
 "nbformat_minor": 5
}
